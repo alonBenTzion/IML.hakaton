{
  "nbformat": 4,
  "nbformat_minor": 0,
  "metadata": {
    "colab": {
      "name": "data_analyzer.ipynb",
      "provenance": []
    },
    "kernelspec": {
      "name": "python3",
      "display_name": "Python 3"
    },
    "language_info": {
      "name": "python"
    }
  },
  "cells": [
    {
      "cell_type": "code",
      "execution_count": null,
      "metadata": {
        "id": "NB4Y3hdnqPQb"
      },
      "outputs": [],
      "source": [
        "import pandas as pd\n",
        "DATA_PATH = ''\n",
        "df = pd.read_csv(DATA_PATH)"
      ]
    },
    {
      "cell_type": "code",
      "source": [
        "from matplotlib import pyplot as plt\n",
        "large_cats = []\n",
        "small_cat = []\n",
        "LARGE_CAT=5\n",
        "for feature in df.columns:\n",
        "  print('-------------------------------------------------\\n\\n')\n",
        "  print(f'feature name: {feature}')\n",
        "  col = df[feature]\n",
        "  print(f'type: {type(col)}')\n",
        "  try:\n",
        "    print(f'max val: {max(col)}')\n",
        "    print(f'min_val: {min(col)}')\n",
        "    print(f'mean_val: {col.mean()}')\n",
        "  except:\n",
        "    print('multiple types')\n",
        "  uv = col.unique()\n",
        "  if len(uv)>5:\n",
        "    large_cats.append(feature)\n",
        "  else:\n",
        "    small_cat.append(feature)\n",
        "  if len(uv)<15:\n",
        "    print(f'uniqe vals: {uv}')\n",
        "  print(f'count nulls {sum(col.isna())}')\n",
        "  try:\n",
        "    col.plot.hist()\n",
        "    plt.show()\n",
        "  except:\n",
        "    pass"
      ],
      "metadata": {
        "id": "2XR4kMiIqbta"
      },
      "execution_count": null,
      "outputs": []
    },
    {
      "cell_type": "markdown",
      "source": [
        "average value of target for each value in categorical feature"
      ],
      "metadata": {
        "id": "dzZPRSxwt2O_"
      }
    },
    {
      "cell_type": "code",
      "source": [
        "from matplotlib import pyplot as plt\n",
        "categorial_features = []\n",
        "TARGET=[]\n",
        "for cat_feature in categorial_features:\n",
        "  print(f\"feature: {cat_feature}\")\n",
        "  gb = df.groupby(cat_feature)[TARGET].mean()\n",
        "  plt.bar(gb.index,gb)\n",
        "  plt.show()"
      ],
      "metadata": {
        "id": "kW_8R9U2tqwR"
      },
      "execution_count": null,
      "outputs": []
    }
  ]
}